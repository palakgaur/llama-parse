{
 "cells": [
  {
   "cell_type": "code",
   "execution_count": 2,
   "metadata": {},
   "outputs": [
    {
     "name": "stdout",
     "output_type": "stream",
     "text": [
      "Requirement already satisfied: llama-index in c:\\users\\palak\\desktop\\my-projects\\llama-parse-project\\llama-parse\\.venv\\lib\\site-packages (0.12.22)\n",
      "Requirement already satisfied: llama-index-agent-openai<0.5.0,>=0.4.0 in c:\\users\\palak\\desktop\\my-projects\\llama-parse-project\\llama-parse\\.venv\\lib\\site-packages (from llama-index) (0.4.6)\n",
      "Requirement already satisfied: llama-index-cli<0.5.0,>=0.4.1 in c:\\users\\palak\\desktop\\my-projects\\llama-parse-project\\llama-parse\\.venv\\lib\\site-packages (from llama-index) (0.4.1)\n",
      "Requirement already satisfied: llama-index-core<0.13.0,>=0.12.22 in c:\\users\\palak\\desktop\\my-projects\\llama-parse-project\\llama-parse\\.venv\\lib\\site-packages (from llama-index) (0.12.22)\n",
      "Requirement already satisfied: llama-index-embeddings-openai<0.4.0,>=0.3.0 in c:\\users\\palak\\desktop\\my-projects\\llama-parse-project\\llama-parse\\.venv\\lib\\site-packages (from llama-index) (0.3.1)\n",
      "Requirement already satisfied: llama-index-indices-managed-llama-cloud>=0.4.0 in c:\\users\\palak\\desktop\\my-projects\\llama-parse-project\\llama-parse\\.venv\\lib\\site-packages (from llama-index) (0.6.8)\n",
      "Requirement already satisfied: llama-index-llms-openai<0.4.0,>=0.3.0 in c:\\users\\palak\\desktop\\my-projects\\llama-parse-project\\llama-parse\\.venv\\lib\\site-packages (from llama-index) (0.3.25)\n",
      "Requirement already satisfied: llama-index-multi-modal-llms-openai<0.5.0,>=0.4.0 in c:\\users\\palak\\desktop\\my-projects\\llama-parse-project\\llama-parse\\.venv\\lib\\site-packages (from llama-index) (0.4.3)\n",
      "Requirement already satisfied: llama-index-program-openai<0.4.0,>=0.3.0 in c:\\users\\palak\\desktop\\my-projects\\llama-parse-project\\llama-parse\\.venv\\lib\\site-packages (from llama-index) (0.3.1)\n",
      "Requirement already satisfied: llama-index-question-gen-openai<0.4.0,>=0.3.0 in c:\\users\\palak\\desktop\\my-projects\\llama-parse-project\\llama-parse\\.venv\\lib\\site-packages (from llama-index) (0.3.0)\n",
      "Requirement already satisfied: llama-index-readers-file<0.5.0,>=0.4.0 in c:\\users\\palak\\desktop\\my-projects\\llama-parse-project\\llama-parse\\.venv\\lib\\site-packages (from llama-index) (0.4.6)\n",
      "Requirement already satisfied: llama-index-readers-llama-parse>=0.4.0 in c:\\users\\palak\\desktop\\my-projects\\llama-parse-project\\llama-parse\\.venv\\lib\\site-packages (from llama-index) (0.4.0)\n",
      "Requirement already satisfied: nltk>3.8.1 in c:\\users\\palak\\desktop\\my-projects\\llama-parse-project\\llama-parse\\.venv\\lib\\site-packages (from llama-index) (3.9.1)\n",
      "Requirement already satisfied: openai>=1.14.0 in c:\\users\\palak\\desktop\\my-projects\\llama-parse-project\\llama-parse\\.venv\\lib\\site-packages (from llama-index-agent-openai<0.5.0,>=0.4.0->llama-index) (1.65.4)\n",
      "Requirement already satisfied: PyYAML>=6.0.1 in c:\\users\\palak\\desktop\\my-projects\\llama-parse-project\\llama-parse\\.venv\\lib\\site-packages (from llama-index-core<0.13.0,>=0.12.22->llama-index) (6.0.2)\n",
      "Requirement already satisfied: SQLAlchemy>=1.4.49 in c:\\users\\palak\\desktop\\my-projects\\llama-parse-project\\llama-parse\\.venv\\lib\\site-packages (from SQLAlchemy[asyncio]>=1.4.49->llama-index-core<0.13.0,>=0.12.22->llama-index) (2.0.38)\n",
      "Requirement already satisfied: aiohttp<4.0.0,>=3.8.6 in c:\\users\\palak\\desktop\\my-projects\\llama-parse-project\\llama-parse\\.venv\\lib\\site-packages (from llama-index-core<0.13.0,>=0.12.22->llama-index) (3.11.13)\n",
      "Requirement already satisfied: dataclasses-json in c:\\users\\palak\\desktop\\my-projects\\llama-parse-project\\llama-parse\\.venv\\lib\\site-packages (from llama-index-core<0.13.0,>=0.12.22->llama-index) (0.6.7)\n",
      "Requirement already satisfied: deprecated>=1.2.9.3 in c:\\users\\palak\\desktop\\my-projects\\llama-parse-project\\llama-parse\\.venv\\lib\\site-packages (from llama-index-core<0.13.0,>=0.12.22->llama-index) (1.2.18)\n",
      "Requirement already satisfied: dirtyjson<2.0.0,>=1.0.8 in c:\\users\\palak\\desktop\\my-projects\\llama-parse-project\\llama-parse\\.venv\\lib\\site-packages (from llama-index-core<0.13.0,>=0.12.22->llama-index) (1.0.8)\n",
      "Requirement already satisfied: filetype<2.0.0,>=1.2.0 in c:\\users\\palak\\desktop\\my-projects\\llama-parse-project\\llama-parse\\.venv\\lib\\site-packages (from llama-index-core<0.13.0,>=0.12.22->llama-index) (1.2.0)\n",
      "Requirement already satisfied: fsspec>=2023.5.0 in c:\\users\\palak\\desktop\\my-projects\\llama-parse-project\\llama-parse\\.venv\\lib\\site-packages (from llama-index-core<0.13.0,>=0.12.22->llama-index) (2025.2.0)\n",
      "Requirement already satisfied: httpx in c:\\users\\palak\\desktop\\my-projects\\llama-parse-project\\llama-parse\\.venv\\lib\\site-packages (from llama-index-core<0.13.0,>=0.12.22->llama-index) (0.28.1)\n",
      "Requirement already satisfied: nest-asyncio<2.0.0,>=1.5.8 in c:\\users\\palak\\desktop\\my-projects\\llama-parse-project\\llama-parse\\.venv\\lib\\site-packages (from llama-index-core<0.13.0,>=0.12.22->llama-index) (1.6.0)\n",
      "Requirement already satisfied: networkx>=3.0 in c:\\users\\palak\\desktop\\my-projects\\llama-parse-project\\llama-parse\\.venv\\lib\\site-packages (from llama-index-core<0.13.0,>=0.12.22->llama-index) (3.4.2)\n",
      "Requirement already satisfied: numpy in c:\\users\\palak\\desktop\\my-projects\\llama-parse-project\\llama-parse\\.venv\\lib\\site-packages (from llama-index-core<0.13.0,>=0.12.22->llama-index) (2.2.3)\n",
      "Requirement already satisfied: pillow>=9.0.0 in c:\\users\\palak\\desktop\\my-projects\\llama-parse-project\\llama-parse\\.venv\\lib\\site-packages (from llama-index-core<0.13.0,>=0.12.22->llama-index) (11.1.0)\n",
      "Requirement already satisfied: pydantic>=2.8.0 in c:\\users\\palak\\desktop\\my-projects\\llama-parse-project\\llama-parse\\.venv\\lib\\site-packages (from llama-index-core<0.13.0,>=0.12.22->llama-index) (2.10.6)\n",
      "Requirement already satisfied: requests>=2.31.0 in c:\\users\\palak\\desktop\\my-projects\\llama-parse-project\\llama-parse\\.venv\\lib\\site-packages (from llama-index-core<0.13.0,>=0.12.22->llama-index) (2.32.3)\n",
      "Requirement already satisfied: tenacity!=8.4.0,<10.0.0,>=8.2.0 in c:\\users\\palak\\desktop\\my-projects\\llama-parse-project\\llama-parse\\.venv\\lib\\site-packages (from llama-index-core<0.13.0,>=0.12.22->llama-index) (9.0.0)\n",
      "Requirement already satisfied: tiktoken>=0.3.3 in c:\\users\\palak\\desktop\\my-projects\\llama-parse-project\\llama-parse\\.venv\\lib\\site-packages (from llama-index-core<0.13.0,>=0.12.22->llama-index) (0.9.0)\n",
      "Requirement already satisfied: tqdm<5.0.0,>=4.66.1 in c:\\users\\palak\\desktop\\my-projects\\llama-parse-project\\llama-parse\\.venv\\lib\\site-packages (from llama-index-core<0.13.0,>=0.12.22->llama-index) (4.67.1)\n",
      "Requirement already satisfied: typing-extensions>=4.5.0 in c:\\users\\palak\\desktop\\my-projects\\llama-parse-project\\llama-parse\\.venv\\lib\\site-packages (from llama-index-core<0.13.0,>=0.12.22->llama-index) (4.12.2)\n",
      "Requirement already satisfied: typing-inspect>=0.8.0 in c:\\users\\palak\\desktop\\my-projects\\llama-parse-project\\llama-parse\\.venv\\lib\\site-packages (from llama-index-core<0.13.0,>=0.12.22->llama-index) (0.9.0)\n",
      "Requirement already satisfied: wrapt in c:\\users\\palak\\desktop\\my-projects\\llama-parse-project\\llama-parse\\.venv\\lib\\site-packages (from llama-index-core<0.13.0,>=0.12.22->llama-index) (1.17.2)\n",
      "Requirement already satisfied: llama-cloud<0.2.0,>=0.1.13 in c:\\users\\palak\\desktop\\my-projects\\llama-parse-project\\llama-parse\\.venv\\lib\\site-packages (from llama-index-indices-managed-llama-cloud>=0.4.0->llama-index) (0.1.14)\n",
      "Requirement already satisfied: beautifulsoup4<5.0.0,>=4.12.3 in c:\\users\\palak\\desktop\\my-projects\\llama-parse-project\\llama-parse\\.venv\\lib\\site-packages (from llama-index-readers-file<0.5.0,>=0.4.0->llama-index) (4.13.3)\n",
      "Requirement already satisfied: pandas in c:\\users\\palak\\desktop\\my-projects\\llama-parse-project\\llama-parse\\.venv\\lib\\site-packages (from llama-index-readers-file<0.5.0,>=0.4.0->llama-index) (2.2.3)\n",
      "Requirement already satisfied: pypdf<6.0.0,>=5.1.0 in c:\\users\\palak\\desktop\\my-projects\\llama-parse-project\\llama-parse\\.venv\\lib\\site-packages (from llama-index-readers-file<0.5.0,>=0.4.0->llama-index) (5.3.1)\n",
      "Requirement already satisfied: striprtf<0.0.27,>=0.0.26 in c:\\users\\palak\\desktop\\my-projects\\llama-parse-project\\llama-parse\\.venv\\lib\\site-packages (from llama-index-readers-file<0.5.0,>=0.4.0->llama-index) (0.0.26)\n",
      "Requirement already satisfied: llama-parse>=0.5.0 in c:\\users\\palak\\desktop\\my-projects\\llama-parse-project\\llama-parse\\.venv\\lib\\site-packages (from llama-index-readers-llama-parse>=0.4.0->llama-index) (0.6.4.post1)\n",
      "Requirement already satisfied: click in c:\\users\\palak\\desktop\\my-projects\\llama-parse-project\\llama-parse\\.venv\\lib\\site-packages (from nltk>3.8.1->llama-index) (8.1.8)\n",
      "Requirement already satisfied: joblib in c:\\users\\palak\\desktop\\my-projects\\llama-parse-project\\llama-parse\\.venv\\lib\\site-packages (from nltk>3.8.1->llama-index) (1.4.2)\n",
      "Requirement already satisfied: regex>=2021.8.3 in c:\\users\\palak\\desktop\\my-projects\\llama-parse-project\\llama-parse\\.venv\\lib\\site-packages (from nltk>3.8.1->llama-index) (2024.11.6)\n",
      "Requirement already satisfied: aiohappyeyeballs>=2.3.0 in c:\\users\\palak\\desktop\\my-projects\\llama-parse-project\\llama-parse\\.venv\\lib\\site-packages (from aiohttp<4.0.0,>=3.8.6->llama-index-core<0.13.0,>=0.12.22->llama-index) (2.5.0)\n",
      "Requirement already satisfied: aiosignal>=1.1.2 in c:\\users\\palak\\desktop\\my-projects\\llama-parse-project\\llama-parse\\.venv\\lib\\site-packages (from aiohttp<4.0.0,>=3.8.6->llama-index-core<0.13.0,>=0.12.22->llama-index) (1.3.2)\n",
      "Requirement already satisfied: attrs>=17.3.0 in c:\\users\\palak\\desktop\\my-projects\\llama-parse-project\\llama-parse\\.venv\\lib\\site-packages (from aiohttp<4.0.0,>=3.8.6->llama-index-core<0.13.0,>=0.12.22->llama-index) (25.1.0)\n",
      "Requirement already satisfied: frozenlist>=1.1.1 in c:\\users\\palak\\desktop\\my-projects\\llama-parse-project\\llama-parse\\.venv\\lib\\site-packages (from aiohttp<4.0.0,>=3.8.6->llama-index-core<0.13.0,>=0.12.22->llama-index) (1.5.0)\n",
      "Requirement already satisfied: multidict<7.0,>=4.5 in c:\\users\\palak\\desktop\\my-projects\\llama-parse-project\\llama-parse\\.venv\\lib\\site-packages (from aiohttp<4.0.0,>=3.8.6->llama-index-core<0.13.0,>=0.12.22->llama-index) (6.1.0)\n",
      "Requirement already satisfied: propcache>=0.2.0 in c:\\users\\palak\\desktop\\my-projects\\llama-parse-project\\llama-parse\\.venv\\lib\\site-packages (from aiohttp<4.0.0,>=3.8.6->llama-index-core<0.13.0,>=0.12.22->llama-index) (0.3.0)\n",
      "Requirement already satisfied: yarl<2.0,>=1.17.0 in c:\\users\\palak\\desktop\\my-projects\\llama-parse-project\\llama-parse\\.venv\\lib\\site-packages (from aiohttp<4.0.0,>=3.8.6->llama-index-core<0.13.0,>=0.12.22->llama-index) (1.18.3)\n",
      "Requirement already satisfied: soupsieve>1.2 in c:\\users\\palak\\desktop\\my-projects\\llama-parse-project\\llama-parse\\.venv\\lib\\site-packages (from beautifulsoup4<5.0.0,>=4.12.3->llama-index-readers-file<0.5.0,>=0.4.0->llama-index) (2.6)\n",
      "Requirement already satisfied: certifi>=2024.7.4 in c:\\users\\palak\\desktop\\my-projects\\llama-parse-project\\llama-parse\\.venv\\lib\\site-packages (from llama-cloud<0.2.0,>=0.1.13->llama-index-indices-managed-llama-cloud>=0.4.0->llama-index) (2025.1.31)\n",
      "Requirement already satisfied: anyio in c:\\users\\palak\\desktop\\my-projects\\llama-parse-project\\llama-parse\\.venv\\lib\\site-packages (from httpx->llama-index-core<0.13.0,>=0.12.22->llama-index) (4.8.0)\n",
      "Requirement already satisfied: httpcore==1.* in c:\\users\\palak\\desktop\\my-projects\\llama-parse-project\\llama-parse\\.venv\\lib\\site-packages (from httpx->llama-index-core<0.13.0,>=0.12.22->llama-index) (1.0.7)\n",
      "Requirement already satisfied: idna in c:\\users\\palak\\desktop\\my-projects\\llama-parse-project\\llama-parse\\.venv\\lib\\site-packages (from httpx->llama-index-core<0.13.0,>=0.12.22->llama-index) (3.10)\n",
      "Requirement already satisfied: h11<0.15,>=0.13 in c:\\users\\palak\\desktop\\my-projects\\llama-parse-project\\llama-parse\\.venv\\lib\\site-packages (from httpcore==1.*->httpx->llama-index-core<0.13.0,>=0.12.22->llama-index) (0.14.0)\n",
      "Requirement already satisfied: llama-cloud-services>=0.6.4 in c:\\users\\palak\\desktop\\my-projects\\llama-parse-project\\llama-parse\\.venv\\lib\\site-packages (from llama-parse>=0.5.0->llama-index-readers-llama-parse>=0.4.0->llama-index) (0.6.5)\n",
      "Requirement already satisfied: distro<2,>=1.7.0 in c:\\users\\palak\\desktop\\my-projects\\llama-parse-project\\llama-parse\\.venv\\lib\\site-packages (from openai>=1.14.0->llama-index-agent-openai<0.5.0,>=0.4.0->llama-index) (1.9.0)\n",
      "Requirement already satisfied: jiter<1,>=0.4.0 in c:\\users\\palak\\desktop\\my-projects\\llama-parse-project\\llama-parse\\.venv\\lib\\site-packages (from openai>=1.14.0->llama-index-agent-openai<0.5.0,>=0.4.0->llama-index) (0.8.2)\n",
      "Requirement already satisfied: sniffio in c:\\users\\palak\\desktop\\my-projects\\llama-parse-project\\llama-parse\\.venv\\lib\\site-packages (from openai>=1.14.0->llama-index-agent-openai<0.5.0,>=0.4.0->llama-index) (1.3.1)\n",
      "Requirement already satisfied: annotated-types>=0.6.0 in c:\\users\\palak\\desktop\\my-projects\\llama-parse-project\\llama-parse\\.venv\\lib\\site-packages (from pydantic>=2.8.0->llama-index-core<0.13.0,>=0.12.22->llama-index) (0.7.0)\n",
      "Requirement already satisfied: pydantic-core==2.27.2 in c:\\users\\palak\\desktop\\my-projects\\llama-parse-project\\llama-parse\\.venv\\lib\\site-packages (from pydantic>=2.8.0->llama-index-core<0.13.0,>=0.12.22->llama-index) (2.27.2)\n",
      "Requirement already satisfied: charset-normalizer<4,>=2 in c:\\users\\palak\\desktop\\my-projects\\llama-parse-project\\llama-parse\\.venv\\lib\\site-packages (from requests>=2.31.0->llama-index-core<0.13.0,>=0.12.22->llama-index) (3.4.1)\n",
      "Requirement already satisfied: urllib3<3,>=1.21.1 in c:\\users\\palak\\desktop\\my-projects\\llama-parse-project\\llama-parse\\.venv\\lib\\site-packages (from requests>=2.31.0->llama-index-core<0.13.0,>=0.12.22->llama-index) (2.3.0)\n",
      "Requirement already satisfied: greenlet!=0.4.17 in c:\\users\\palak\\desktop\\my-projects\\llama-parse-project\\llama-parse\\.venv\\lib\\site-packages (from SQLAlchemy>=1.4.49->SQLAlchemy[asyncio]>=1.4.49->llama-index-core<0.13.0,>=0.12.22->llama-index) (3.1.1)\n",
      "Requirement already satisfied: colorama in c:\\users\\palak\\desktop\\my-projects\\llama-parse-project\\llama-parse\\.venv\\lib\\site-packages (from tqdm<5.0.0,>=4.66.1->llama-index-core<0.13.0,>=0.12.22->llama-index) (0.4.6)\n",
      "Requirement already satisfied: mypy-extensions>=0.3.0 in c:\\users\\palak\\desktop\\my-projects\\llama-parse-project\\llama-parse\\.venv\\lib\\site-packages (from typing-inspect>=0.8.0->llama-index-core<0.13.0,>=0.12.22->llama-index) (1.0.0)\n",
      "Requirement already satisfied: marshmallow<4.0.0,>=3.18.0 in c:\\users\\palak\\desktop\\my-projects\\llama-parse-project\\llama-parse\\.venv\\lib\\site-packages (from dataclasses-json->llama-index-core<0.13.0,>=0.12.22->llama-index) (3.26.1)\n",
      "Requirement already satisfied: python-dateutil>=2.8.2 in c:\\users\\palak\\desktop\\my-projects\\llama-parse-project\\llama-parse\\.venv\\lib\\site-packages (from pandas->llama-index-readers-file<0.5.0,>=0.4.0->llama-index) (2.9.0.post0)\n",
      "Requirement already satisfied: pytz>=2020.1 in c:\\users\\palak\\desktop\\my-projects\\llama-parse-project\\llama-parse\\.venv\\lib\\site-packages (from pandas->llama-index-readers-file<0.5.0,>=0.4.0->llama-index) (2025.1)\n",
      "Requirement already satisfied: tzdata>=2022.7 in c:\\users\\palak\\desktop\\my-projects\\llama-parse-project\\llama-parse\\.venv\\lib\\site-packages (from pandas->llama-index-readers-file<0.5.0,>=0.4.0->llama-index) (2025.1)\n",
      "Requirement already satisfied: python-dotenv<2.0.0,>=1.0.1 in c:\\users\\palak\\desktop\\my-projects\\llama-parse-project\\llama-parse\\.venv\\lib\\site-packages (from llama-cloud-services>=0.6.4->llama-parse>=0.5.0->llama-index-readers-llama-parse>=0.4.0->llama-index) (1.0.1)\n",
      "Requirement already satisfied: packaging>=17.0 in c:\\users\\palak\\desktop\\my-projects\\llama-parse-project\\llama-parse\\.venv\\lib\\site-packages (from marshmallow<4.0.0,>=3.18.0->dataclasses-json->llama-index-core<0.13.0,>=0.12.22->llama-index) (24.2)\n",
      "Requirement already satisfied: six>=1.5 in c:\\users\\palak\\desktop\\my-projects\\llama-parse-project\\llama-parse\\.venv\\lib\\site-packages (from python-dateutil>=2.8.2->pandas->llama-index-readers-file<0.5.0,>=0.4.0->llama-index) (1.17.0)\n",
      "Note: you may need to restart the kernel to use updated packages.\n"
     ]
    }
   ],
   "source": [
    "pip install llama-index"
   ]
  },
  {
   "cell_type": "code",
   "execution_count": null,
   "metadata": {},
   "outputs": [],
   "source": [
    "import os\n",
    "os.environ[\"LLAMA_CLOUD_API_KEY\"] = \"llx-PX50mTXExqVsfgGLuDqCYN1BaGSCF8x19t58ReTeRusKWeIh\""
   ]
  },
  {
   "cell_type": "code",
   "execution_count": 4,
   "metadata": {},
   "outputs": [],
   "source": [
    "parsing_instructions1 = '''this is my handwritten document please extract accordingly'''"
   ]
  },
  {
   "cell_type": "code",
   "execution_count": 5,
   "metadata": {},
   "outputs": [
    {
     "name": "stdout",
     "output_type": "stream",
     "text": [
      "WARNING: parsing_instruction is deprecated. Use system_prompt, system_prompt_append or user_prompt instead.\n",
      "Started parsing the file under job_id e7bc3191-69a1-466d-a793-4b116cdc6e84\n"
     ]
    }
   ],
   "source": [
    "import nest_asyncio\n",
    "import asyncio\n",
    "from llama_parse import LlamaParse\n",
    "\n",
    "nest_asyncio.apply()  # Fixes the \"RuntimeError: This event loop is already running\" issue\n",
    " \n",
    "from llama_parse import LlamaParse\n",
    " \n",
    "documents = LlamaParse(result_type=\"markdown\", parsing_instruction= parsing_instructions1).load_data(\"llamaparse_habdwritten.pdf\")\n"
   ]
  },
  {
   "cell_type": "code",
   "execution_count": 6,
   "metadata": {},
   "outputs": [],
   "source": [
    "# Define file path\n",
    "md_file_path = \"handwritten.md\"\n",
    " \n",
    "# Save all documents content to a file\n",
    "with open(md_file_path, \"w\", encoding=\"utf-8\") as f:\n",
    "    for doc in documents:\n",
    "        f.write(doc.text + \"\\n\\n\")  # Adding newline to separate documents"
   ]
  },
  {
   "cell_type": "code",
   "execution_count": null,
   "metadata": {},
   "outputs": [],
   "source": []
  }
 ],
 "metadata": {
  "kernelspec": {
   "display_name": ".venv",
   "language": "python",
   "name": "python3"
  },
  "language_info": {
   "codemirror_mode": {
    "name": "ipython",
    "version": 3
   },
   "file_extension": ".py",
   "mimetype": "text/x-python",
   "name": "python",
   "nbconvert_exporter": "python",
   "pygments_lexer": "ipython3",
   "version": "3.13.2"
  }
 },
 "nbformat": 4,
 "nbformat_minor": 2
}
